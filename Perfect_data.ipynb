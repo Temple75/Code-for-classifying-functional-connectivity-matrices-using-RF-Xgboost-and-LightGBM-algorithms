{
 "cells": [
  {
   "cell_type": "code",
   "execution_count": 1,
   "id": "09b3a4a5",
   "metadata": {},
   "outputs": [],
   "source": [
    "import numpy as np\n",
    "import matplotlib.pyplot as plt\n",
    "import pandas as pd\n",
    "import seaborn as sns\n",
    "import os"
   ]
  },
  {
   "cell_type": "code",
   "execution_count": 6,
   "id": "9568a77a",
   "metadata": {},
   "outputs": [
    {
     "name": "stdout",
     "output_type": "stream",
     "text": [
      "1066 25660.txt\n",
      "3174 25665.txt\n",
      "534 25668.txt\n",
      "4216 25669.txt\n",
      "2650 25672.txt\n",
      "534 25680.txt\n",
      "2124 25687.txt\n",
      "534 25695.txt\n",
      "534 25698.txt\n",
      "5250 25707.txt\n",
      "534 25710.txt\n",
      "5250 25711.txt\n",
      "3174 25712.txt\n",
      "2124 25716.txt\n",
      "3174 25719.txt\n",
      "2650 25730.txt\n",
      "1066 25748.txt\n",
      "7294 25749.txt\n",
      "534 25754.txt\n",
      "2124 25761.txt\n",
      "534 25765.txt\n",
      "4734 25772.txt\n",
      "3174 25773.txt\n",
      "1066 25780.txt\n",
      "3696 25782.txt\n",
      "5250 25795.txt\n",
      "7800 25797.txt\n",
      "534 25805.txt\n",
      "1596 25806.txt\n",
      "1596 25808.txt\n",
      "2124 25815.txt\n",
      "534 25816.txt\n",
      "534 25819.txt\n",
      "1066 25820.txt\n",
      "534 25824.txt\n",
      "1066 25835.txt\n",
      "2650 25838.txt\n",
      "1066 25845.txt\n",
      "1596 25852.txt\n",
      "534 25854.txt\n"
     ]
    },
    {
     "data": {
      "text/plain": [
       "120"
      ]
     },
     "execution_count": 6,
     "metadata": {},
     "output_type": "execute_result"
    }
   ],
   "source": [
    "#导入数据\n",
    "#对缺失值进行填补\n",
    "train_X = np.empty(shape=[0,268],dtype=int)\n",
    "train_Y = []\n",
    "filePath = 'D:\\jupyter_psychology\\Shen268\\ROI_FC_r_p\\session1'\n",
    "filePath_list = os.listdir(filePath)\n",
    "cnt_nan = [0,0,0]\n",
    "for fp in filePath_list:\n",
    "    fp_a = ['D:\\jupyter_psychology\\Shen268\\ROI_FC_r_p\\session1\\\\'+fp,'D:\\jupyter_psychology\\Shen268\\ROI_FC_r_p\\session2\\\\'+fp,'D:\\jupyter_psychology\\Shen268\\ROI_FC_r_p\\session3\\\\'+fp]\n",
    "    data =  np.loadtxt(fp_a[2])\n",
    "    # 存在缺失值，删除该被试所有session的文件\n",
    "    if(np.isnan(data).any()):\n",
    "        cnt_nan[2] += 1\n",
    "        print(len(data[np.isnan(data)]),fp)\n",
    "        os.remove(fp_a[0])\n",
    "        os.remove(fp_a[2])\n",
    "len(filePath_list)"
   ]
  },
  {
   "cell_type": "code",
   "execution_count": 7,
   "id": "f7c702e9",
   "metadata": {},
   "outputs": [
    {
     "data": {
      "text/plain": [
       "80"
      ]
     },
     "execution_count": 7,
     "metadata": {},
     "output_type": "execute_result"
    }
   ],
   "source": [
    "\n",
    "filePath = 'D:\\jupyter_psychology\\Shen268\\ROI_FC_r_p\\session1'\n",
    "filePath_list = os.listdir(filePath)\n",
    "len(filePath_list)"
   ]
  },
  {
   "cell_type": "code",
   "execution_count": 4,
   "id": "9cdb0b22",
   "metadata": {},
   "outputs": [
    {
     "name": "stdout",
     "output_type": "stream",
     "text": [
      "['25629.txt', '25632.txt', '25633.txt', '25635.txt', '25637.txt', '25644.txt', '25646.txt', '25647.txt', '25652.txt', '25659.txt', '25661.txt', '25662.txt', '25684.txt', '25688.txt', '25691.txt', '25697.txt', '25699.txt', '25705.txt', '25713.txt', '25715.txt', '25720.txt', '25721.txt', '25724.txt', '25742.txt', '25743.txt', '25753.txt', '25757.txt', '25763.txt', '25766.txt', '25768.txt', '25769.txt', '25771.txt', '25776.txt', '25777.txt', '25783.txt', '25785.txt', '25788.txt', '25794.txt', '25796.txt', '25798.txt', '25799.txt', '25800.txt', '25807.txt', '25809.txt', '25810.txt', '25812.txt', '25813.txt', '25822.txt', '25827.txt', '25828.txt', '25832.txt', '25836.txt', '25837.txt', '25839.txt', '25844.txt', '25847.txt', '25848.txt', '25850.txt', '25851.txt', '25853.txt', '25855.txt', '25857.txt', '25858.txt', '25859.txt', '25860.txt', '25861.txt', '25863.txt']\n"
     ]
    }
   ],
   "source": [
    "#导入数据\n",
    "#对缺失值进行填补\n",
    "filePath = 'D:\\jupyter_psychology\\Shen268\\ROI_FC_r_per\\session1'\n",
    "filePath_list = os.listdir(filePath)\n",
    "print(filePath_list)\n",
    "cnt_nan = [0,0,0]\n",
    "for fp in filePath_list:\n",
    "    fp_a = ['D:\\jupyter_psychology\\Shen268\\ROI_FC_r_per\\session1\\\\'+fp,'D:\\jupyter_psychology\\Shen268\\ROI_FC_r_per\\session2\\\\'+fp,'D:\\jupyter_psychology\\Shen268\\ROI_FC_r_per\\session3\\\\'+fp]\n",
    "    data =  np.loadtxt(fp_a[1])\n",
    "    # 存在缺失值，删除该被试所有session的文件\n",
    "    if(np.isnan(data).any()):\n",
    "        print(len(data[np.isnan(data)]),fp)\n",
    "        os.remove(fp_a[0])\n",
    "        os.remove(fp_a[1])\n",
    "        os.remove(fp_a[2])"
   ]
  },
  {
   "cell_type": "code",
   "execution_count": 5,
   "id": "fb0cf644",
   "metadata": {},
   "outputs": [
    {
     "data": {
      "text/plain": [
       "67"
      ]
     },
     "execution_count": 5,
     "metadata": {},
     "output_type": "execute_result"
    }
   ],
   "source": [
    "filePath = 'D:\\jupyter_psychology\\Shen268\\ROI_FC_r_per\\session1'\n",
    "filePath_list = os.listdir(filePath)\n",
    "len(filePath_list)"
   ]
  },
  {
   "cell_type": "code",
   "execution_count": null,
   "id": "ba0d6990",
   "metadata": {},
   "outputs": [],
   "source": []
  },
  {
   "cell_type": "code",
   "execution_count": null,
   "id": "f84f20fb-887b-421a-9c3b-11115b55afa9",
   "metadata": {},
   "outputs": [],
   "source": []
  },
  {
   "cell_type": "code",
   "execution_count": null,
   "id": "7011e9e8-1bb9-4220-8f0c-1cc7f948228a",
   "metadata": {},
   "outputs": [],
   "source": []
  }
 ],
 "metadata": {
  "kernelspec": {
   "display_name": "Python 3 (ipykernel)",
   "language": "python",
   "name": "python3"
  },
  "language_info": {
   "codemirror_mode": {
    "name": "ipython",
    "version": 3
   },
   "file_extension": ".py",
   "mimetype": "text/x-python",
   "name": "python",
   "nbconvert_exporter": "python",
   "pygments_lexer": "ipython3",
   "version": "3.11.7"
  }
 },
 "nbformat": 4,
 "nbformat_minor": 5
}
